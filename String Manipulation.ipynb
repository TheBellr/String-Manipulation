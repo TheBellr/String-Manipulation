{
 "cells": [
  {
   "cell_type": "markdown",
   "id": "ed01c82c-e790-48ba-a1f0-63679e5a28af",
   "metadata": {},
   "source": [
    "# Problem: String Manipulation\n",
    "\n",
    "Create a program that asks the user to enter their first name and last name separately. Then, the program should concatenate these names and display a message. Additionally, it should count and display the total number of characters in the full name.\n",
    "\n",
    "Here are the requirements:\n",
    "\n",
    "Prompt the user to enter their first name and store it in a variable.\n",
    "Prompt the user to enter their last name and store it in a different variable.\n",
    "Concatenate the first name and last name to form the full name.\n",
    "Display a message that greets the user using their full name, for example, \"Hello, John Doe!\"\n",
    "Count and display the total number of characters in the full name (including spaces).\n",
    "\n",
    "# Solution"
   ]
  },
  {
   "cell_type": "code",
   "execution_count": null,
   "id": "ab55d142-ad4e-4f33-b8a2-e30e8d2cdba1",
   "metadata": {},
   "outputs": [],
   "source": [
    "first_name = input( 'State your first name:')\n",
    "last_name = input( 'State your last name:')\n",
    "\n",
    "print(\"Hello, \" +  first_name + \" \" + last_name + \"!\")\n",
    "\n",
    "print (\"Total number of characters in full name: \" + str (len( first_name + \" \" + last_name) ))"
   ]
  }
 ],
 "metadata": {
  "kernelspec": {
   "display_name": "Python 3 (ipykernel)",
   "language": "python",
   "name": "python3"
  },
  "language_info": {
   "codemirror_mode": {
    "name": "ipython",
    "version": 3
   },
   "file_extension": ".py",
   "mimetype": "text/x-python",
   "name": "python",
   "nbconvert_exporter": "python",
   "pygments_lexer": "ipython3",
   "version": "3.11.5"
  }
 },
 "nbformat": 4,
 "nbformat_minor": 5
}
